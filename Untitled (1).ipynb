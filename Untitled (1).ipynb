{
 "cells": [
  {
   "cell_type": "code",
   "execution_count": null,
   "metadata": {},
   "outputs": [],
   "source": [
    "import numpy as np\n",
    "import sklearn as skl\n",
    "import sklearn.preprocessing.Imputer\n",
    "import pandas as ps\n",
    "\n",
    "data_x = ps.read_csv(\"bank-additional.csv\")\n",
    "data_x['y_class'] = data_x['y'].apply(lambda x:0 if x == 'no' else 1)\n",
    "data_x.drop([y], axis = 1, inplace = True)\n",
    "col_unknown = {\"job\":{\"unknown\":\"NaN\"},}\n",
    "data_x.replace(col_unkown, inplace = True)\n",
    "fill = Imputer(strategy='most_frequent')\n"
   ]
  }
 ],
 "metadata": {
  "kernelspec": {
   "display_name": "Python 3",
   "language": "python",
   "name": "python3"
  },
  "language_info": {
   "codemirror_mode": {
    "name": "ipython",
    "version": 3
   },
   "file_extension": ".py",
   "mimetype": "text/x-python",
   "name": "python",
   "nbconvert_exporter": "python",
   "pygments_lexer": "ipython3",
   "version": "3.6.4"
  }
 },
 "nbformat": 4,
 "nbformat_minor": 2
}
